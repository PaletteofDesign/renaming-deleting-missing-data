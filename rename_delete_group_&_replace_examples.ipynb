{
 "cells": [
  {
   "cell_type": "code",
   "execution_count": 1,
   "outputs": [],
   "source": [
    "# Import libraries\n",
    "import pandas as pd\n",
    "import numpy as np"
   ],
   "metadata": {
    "collapsed": false,
    "pycharm": {
     "name": "#%%\n"
    }
   }
  },
  {
   "cell_type": "code",
   "execution_count": 2,
   "outputs": [
    {
     "data": {
      "text/plain": "  Timeframe    Week of   2019 counts (31 counters)  \\\n0    Week 1 2020-12-30                    167679.0   \n1    Week 2 2020-01-06                     82340.0   \n2    Week 3 2020-01-13                     62315.0   \n3    Week 4 2020-01-20                     75801.0   \n4    Week 5 2020-01-27                     75841.0   \n\n    2020 counts (31 counters)  2021 Counts  Change 2019-2020  Unnamed: 6  \\\n0                    183546.0          NaN          0.094627    1.094627   \n1                     97140.0          NaN          0.179743  117.974253   \n2                     75782.0          NaN          0.216112  121.611169   \n3                     83809.0          NaN          0.105645  110.564504   \n4                     94738.0          NaN          0.249166  124.916602   \n\n   Unnamed: 7  Unnamed: 8  Unnamed: 9  \n0         NaN         NaN         NaN  \n1         NaN         NaN         NaN  \n2         NaN         NaN         NaN  \n3         NaN         NaN         NaN  \n4         NaN         NaN         NaN  ",
      "text/html": "<div>\n<style scoped>\n    .dataframe tbody tr th:only-of-type {\n        vertical-align: middle;\n    }\n\n    .dataframe tbody tr th {\n        vertical-align: top;\n    }\n\n    .dataframe thead th {\n        text-align: right;\n    }\n</style>\n<table border=\"1\" class=\"dataframe\">\n  <thead>\n    <tr style=\"text-align: right;\">\n      <th></th>\n      <th>Timeframe</th>\n      <th>Week of</th>\n      <th>2019 counts (31 counters)</th>\n      <th>2020 counts (31 counters)</th>\n      <th>2021 Counts</th>\n      <th>Change 2019-2020</th>\n      <th>Unnamed: 6</th>\n      <th>Unnamed: 7</th>\n      <th>Unnamed: 8</th>\n      <th>Unnamed: 9</th>\n    </tr>\n  </thead>\n  <tbody>\n    <tr>\n      <th>0</th>\n      <td>Week 1</td>\n      <td>2020-12-30</td>\n      <td>167679.0</td>\n      <td>183546.0</td>\n      <td>NaN</td>\n      <td>0.094627</td>\n      <td>1.094627</td>\n      <td>NaN</td>\n      <td>NaN</td>\n      <td>NaN</td>\n    </tr>\n    <tr>\n      <th>1</th>\n      <td>Week 2</td>\n      <td>2020-01-06</td>\n      <td>82340.0</td>\n      <td>97140.0</td>\n      <td>NaN</td>\n      <td>0.179743</td>\n      <td>117.974253</td>\n      <td>NaN</td>\n      <td>NaN</td>\n      <td>NaN</td>\n    </tr>\n    <tr>\n      <th>2</th>\n      <td>Week 3</td>\n      <td>2020-01-13</td>\n      <td>62315.0</td>\n      <td>75782.0</td>\n      <td>NaN</td>\n      <td>0.216112</td>\n      <td>121.611169</td>\n      <td>NaN</td>\n      <td>NaN</td>\n      <td>NaN</td>\n    </tr>\n    <tr>\n      <th>3</th>\n      <td>Week 4</td>\n      <td>2020-01-20</td>\n      <td>75801.0</td>\n      <td>83809.0</td>\n      <td>NaN</td>\n      <td>0.105645</td>\n      <td>110.564504</td>\n      <td>NaN</td>\n      <td>NaN</td>\n      <td>NaN</td>\n    </tr>\n    <tr>\n      <th>4</th>\n      <td>Week 5</td>\n      <td>2020-01-27</td>\n      <td>75841.0</td>\n      <td>94738.0</td>\n      <td>NaN</td>\n      <td>0.249166</td>\n      <td>124.916602</td>\n      <td>NaN</td>\n      <td>NaN</td>\n      <td>NaN</td>\n    </tr>\n  </tbody>\n</table>\n</div>"
     },
     "execution_count": 2,
     "metadata": {},
     "output_type": "execute_result"
    }
   ],
   "source": [
    "# Import data\n",
    "bike_df = pd.read_excel('/home/spid3r404/Documents/data_science/data/RailsToTrails_National_Count_Data_week.xlsx')\n",
    "bike_df.head()"
   ],
   "metadata": {
    "collapsed": false,
    "pycharm": {
     "name": "#%%\n"
    }
   }
  },
  {
   "cell_type": "code",
   "execution_count": 3,
   "outputs": [
    {
     "data": {
      "text/plain": "  Timeframe    Week of   2019 counts (31 counters)  \\\n0    Week 1 2020-12-30                    167679.0   \n1    Week 2 2020-01-06                     82340.0   \n2    Week 3 2020-01-13                     62315.0   \n3    Week 4 2020-01-20                     75801.0   \n4    Week 5 2020-01-27                     75841.0   \n\n    2020 counts (31 counters)  2021 Counts  Change 2019-2020  Unnamed: 6  \n0                    183546.0          NaN          0.094627    1.094627  \n1                     97140.0          NaN          0.179743  117.974253  \n2                     75782.0          NaN          0.216112  121.611169  \n3                     83809.0          NaN          0.105645  110.564504  \n4                     94738.0          NaN          0.249166  124.916602  ",
      "text/html": "<div>\n<style scoped>\n    .dataframe tbody tr th:only-of-type {\n        vertical-align: middle;\n    }\n\n    .dataframe tbody tr th {\n        vertical-align: top;\n    }\n\n    .dataframe thead th {\n        text-align: right;\n    }\n</style>\n<table border=\"1\" class=\"dataframe\">\n  <thead>\n    <tr style=\"text-align: right;\">\n      <th></th>\n      <th>Timeframe</th>\n      <th>Week of</th>\n      <th>2019 counts (31 counters)</th>\n      <th>2020 counts (31 counters)</th>\n      <th>2021 Counts</th>\n      <th>Change 2019-2020</th>\n      <th>Unnamed: 6</th>\n    </tr>\n  </thead>\n  <tbody>\n    <tr>\n      <th>0</th>\n      <td>Week 1</td>\n      <td>2020-12-30</td>\n      <td>167679.0</td>\n      <td>183546.0</td>\n      <td>NaN</td>\n      <td>0.094627</td>\n      <td>1.094627</td>\n    </tr>\n    <tr>\n      <th>1</th>\n      <td>Week 2</td>\n      <td>2020-01-06</td>\n      <td>82340.0</td>\n      <td>97140.0</td>\n      <td>NaN</td>\n      <td>0.179743</td>\n      <td>117.974253</td>\n    </tr>\n    <tr>\n      <th>2</th>\n      <td>Week 3</td>\n      <td>2020-01-13</td>\n      <td>62315.0</td>\n      <td>75782.0</td>\n      <td>NaN</td>\n      <td>0.216112</td>\n      <td>121.611169</td>\n    </tr>\n    <tr>\n      <th>3</th>\n      <td>Week 4</td>\n      <td>2020-01-20</td>\n      <td>75801.0</td>\n      <td>83809.0</td>\n      <td>NaN</td>\n      <td>0.105645</td>\n      <td>110.564504</td>\n    </tr>\n    <tr>\n      <th>4</th>\n      <td>Week 5</td>\n      <td>2020-01-27</td>\n      <td>75841.0</td>\n      <td>94738.0</td>\n      <td>NaN</td>\n      <td>0.249166</td>\n      <td>124.916602</td>\n    </tr>\n  </tbody>\n</table>\n</div>"
     },
     "execution_count": 3,
     "metadata": {},
     "output_type": "execute_result"
    }
   ],
   "source": [
    "# Removing unwanted columns\n",
    "bike_df = bike_df.drop(columns=['Unnamed: 7', 'Unnamed: 8', 'Unnamed: 9'])\n",
    "bike_df.head()"
   ],
   "metadata": {
    "collapsed": false,
    "pycharm": {
     "name": "#%%\n"
    }
   }
  },
  {
   "cell_type": "code",
   "execution_count": 4,
   "outputs": [
    {
     "data": {
      "text/plain": "  Timeframe    Week of   2019 counts (31 counters)  \\\n0    Week 1 2020-12-30                    167679.0   \n1    Week 2 2020-01-06                     82340.0   \n2    Week 3 2020-01-13                     62315.0   \n3    Week 4 2020-01-20                     75801.0   \n4    Week 5 2020-01-27                     75841.0   \n\n    2020 counts (31 counters)  2021 Counts  Change 2019-2020  percent_change  \n0                    183546.0          NaN          0.094627        1.094627  \n1                     97140.0          NaN          0.179743      117.974253  \n2                     75782.0          NaN          0.216112      121.611169  \n3                     83809.0          NaN          0.105645      110.564504  \n4                     94738.0          NaN          0.249166      124.916602  ",
      "text/html": "<div>\n<style scoped>\n    .dataframe tbody tr th:only-of-type {\n        vertical-align: middle;\n    }\n\n    .dataframe tbody tr th {\n        vertical-align: top;\n    }\n\n    .dataframe thead th {\n        text-align: right;\n    }\n</style>\n<table border=\"1\" class=\"dataframe\">\n  <thead>\n    <tr style=\"text-align: right;\">\n      <th></th>\n      <th>Timeframe</th>\n      <th>Week of</th>\n      <th>2019 counts (31 counters)</th>\n      <th>2020 counts (31 counters)</th>\n      <th>2021 Counts</th>\n      <th>Change 2019-2020</th>\n      <th>percent_change</th>\n    </tr>\n  </thead>\n  <tbody>\n    <tr>\n      <th>0</th>\n      <td>Week 1</td>\n      <td>2020-12-30</td>\n      <td>167679.0</td>\n      <td>183546.0</td>\n      <td>NaN</td>\n      <td>0.094627</td>\n      <td>1.094627</td>\n    </tr>\n    <tr>\n      <th>1</th>\n      <td>Week 2</td>\n      <td>2020-01-06</td>\n      <td>82340.0</td>\n      <td>97140.0</td>\n      <td>NaN</td>\n      <td>0.179743</td>\n      <td>117.974253</td>\n    </tr>\n    <tr>\n      <th>2</th>\n      <td>Week 3</td>\n      <td>2020-01-13</td>\n      <td>62315.0</td>\n      <td>75782.0</td>\n      <td>NaN</td>\n      <td>0.216112</td>\n      <td>121.611169</td>\n    </tr>\n    <tr>\n      <th>3</th>\n      <td>Week 4</td>\n      <td>2020-01-20</td>\n      <td>75801.0</td>\n      <td>83809.0</td>\n      <td>NaN</td>\n      <td>0.105645</td>\n      <td>110.564504</td>\n    </tr>\n    <tr>\n      <th>4</th>\n      <td>Week 5</td>\n      <td>2020-01-27</td>\n      <td>75841.0</td>\n      <td>94738.0</td>\n      <td>NaN</td>\n      <td>0.249166</td>\n      <td>124.916602</td>\n    </tr>\n  </tbody>\n</table>\n</div>"
     },
     "execution_count": 4,
     "metadata": {},
     "output_type": "execute_result"
    }
   ],
   "source": [
    "# Renaming Unnamed column to percent_change\n",
    "bike_df = bike_df.rename(columns={'Unnamed: 6': 'percent_change'})\n",
    "bike_df.head()"
   ],
   "metadata": {
    "collapsed": false,
    "pycharm": {
     "name": "#%%\n"
    }
   }
  },
  {
   "cell_type": "code",
   "execution_count": 5,
   "outputs": [
    {
     "data": {
      "text/plain": "Timeframe                      0\nWeek of                        0\n 2019 counts (31 counters)     0\n 2020 counts (31 counters)     0\n2021 Counts                   52\nChange 2019-2020               0\npercent_change                 0\ndtype: int64"
     },
     "execution_count": 5,
     "metadata": {},
     "output_type": "execute_result"
    }
   ],
   "source": [
    "# Gathering the sum of null values in each column\n",
    "bike_df.isna().sum()"
   ],
   "metadata": {
    "collapsed": false,
    "pycharm": {
     "name": "#%%\n"
    }
   }
  },
  {
   "cell_type": "code",
   "execution_count": 6,
   "outputs": [
    {
     "data": {
      "text/plain": "Timeframe                     0\nWeek of                       0\n 2019 counts (31 counters)    0\n 2020 counts (31 counters)    0\n2021 Counts                   0\nChange 2019-2020              0\npercent_change                0\ndtype: int64"
     },
     "execution_count": 6,
     "metadata": {},
     "output_type": "execute_result"
    }
   ],
   "source": [
    "# Filling in null values with 0\n",
    "bike_df = bike_df.fillna(value=0)\n",
    "bike_df.isna().sum()"
   ],
   "metadata": {
    "collapsed": false,
    "pycharm": {
     "name": "#%%\n"
    }
   }
  },
  {
   "cell_type": "code",
   "execution_count": 8,
   "outputs": [
    {
     "data": {
      "text/plain": "  time_frame    week_of  counts_2019  counts_2020  2021 Counts  \\\n0     Week 1 2020-12-30     167679.0     183546.0          0.0   \n1     Week 2 2020-01-06      82340.0      97140.0          0.0   \n2     Week 3 2020-01-13      62315.0      75782.0          0.0   \n3     Week 4 2020-01-20      75801.0      83809.0          0.0   \n4     Week 5 2020-01-27      75841.0      94738.0          0.0   \n\n   Change 2019-2020  percent_change  \n0          0.094627        1.094627  \n1          0.179743      117.974253  \n2          0.216112      121.611169  \n3          0.105645      110.564504  \n4          0.249166      124.916602  ",
      "text/html": "<div>\n<style scoped>\n    .dataframe tbody tr th:only-of-type {\n        vertical-align: middle;\n    }\n\n    .dataframe tbody tr th {\n        vertical-align: top;\n    }\n\n    .dataframe thead th {\n        text-align: right;\n    }\n</style>\n<table border=\"1\" class=\"dataframe\">\n  <thead>\n    <tr style=\"text-align: right;\">\n      <th></th>\n      <th>time_frame</th>\n      <th>week_of</th>\n      <th>counts_2019</th>\n      <th>counts_2020</th>\n      <th>2021 Counts</th>\n      <th>Change 2019-2020</th>\n      <th>percent_change</th>\n    </tr>\n  </thead>\n  <tbody>\n    <tr>\n      <th>0</th>\n      <td>Week 1</td>\n      <td>2020-12-30</td>\n      <td>167679.0</td>\n      <td>183546.0</td>\n      <td>0.0</td>\n      <td>0.094627</td>\n      <td>1.094627</td>\n    </tr>\n    <tr>\n      <th>1</th>\n      <td>Week 2</td>\n      <td>2020-01-06</td>\n      <td>82340.0</td>\n      <td>97140.0</td>\n      <td>0.0</td>\n      <td>0.179743</td>\n      <td>117.974253</td>\n    </tr>\n    <tr>\n      <th>2</th>\n      <td>Week 3</td>\n      <td>2020-01-13</td>\n      <td>62315.0</td>\n      <td>75782.0</td>\n      <td>0.0</td>\n      <td>0.216112</td>\n      <td>121.611169</td>\n    </tr>\n    <tr>\n      <th>3</th>\n      <td>Week 4</td>\n      <td>2020-01-20</td>\n      <td>75801.0</td>\n      <td>83809.0</td>\n      <td>0.0</td>\n      <td>0.105645</td>\n      <td>110.564504</td>\n    </tr>\n    <tr>\n      <th>4</th>\n      <td>Week 5</td>\n      <td>2020-01-27</td>\n      <td>75841.0</td>\n      <td>94738.0</td>\n      <td>0.0</td>\n      <td>0.249166</td>\n      <td>124.916602</td>\n    </tr>\n  </tbody>\n</table>\n</div>"
     },
     "execution_count": 8,
     "metadata": {},
     "output_type": "execute_result"
    }
   ],
   "source": [
    "# Renaming columns with more pythonic names\n",
    "bike_df = bike_df.rename(columns={' 2019 counts (31 counters)': 'counts_2019',\n",
    "                                  ' 2020 counts (31 counters)': 'counts_2020',\n",
    "                                  'Week of': 'week_of', 'Timeframe': 'time_frame'})\n",
    "bike_df.head()"
   ],
   "metadata": {
    "collapsed": false,
    "pycharm": {
     "name": "#%%\n"
    }
   }
  },
  {
   "cell_type": "code",
   "execution_count": 10,
   "outputs": [
    {
     "data": {
      "text/plain": "                           mean                     median            \n                    counts_2019    counts_2020 counts_2019 counts_2020\nweek_of                                                               \n2020-01-06 00:00:00     82340.0   97140.000000     82340.0     97140.0\n2020-01-13 00:00:00     62315.0   75782.000000     62315.0     75782.0\n2020-01-20 00:00:00     75801.0   83809.000000     75801.0     83809.0\n2020-01-27 00:00:00     75841.0   94738.000000     75841.0     94738.0\n2020-12-30 00:00:00    167679.0  183546.000000    167679.0    183546.0\nAll                    136150.5  202107.442308    134574.0    209050.0",
      "text/html": "<div>\n<style scoped>\n    .dataframe tbody tr th:only-of-type {\n        vertical-align: middle;\n    }\n\n    .dataframe tbody tr th {\n        vertical-align: top;\n    }\n\n    .dataframe thead tr th {\n        text-align: left;\n    }\n\n    .dataframe thead tr:last-of-type th {\n        text-align: right;\n    }\n</style>\n<table border=\"1\" class=\"dataframe\">\n  <thead>\n    <tr>\n      <th></th>\n      <th colspan=\"2\" halign=\"left\">mean</th>\n      <th colspan=\"2\" halign=\"left\">median</th>\n    </tr>\n    <tr>\n      <th></th>\n      <th>counts_2019</th>\n      <th>counts_2020</th>\n      <th>counts_2019</th>\n      <th>counts_2020</th>\n    </tr>\n    <tr>\n      <th>week_of</th>\n      <th></th>\n      <th></th>\n      <th></th>\n      <th></th>\n    </tr>\n  </thead>\n  <tbody>\n    <tr>\n      <th>2020-01-06 00:00:00</th>\n      <td>82340.0</td>\n      <td>97140.000000</td>\n      <td>82340.0</td>\n      <td>97140.0</td>\n    </tr>\n    <tr>\n      <th>2020-01-13 00:00:00</th>\n      <td>62315.0</td>\n      <td>75782.000000</td>\n      <td>62315.0</td>\n      <td>75782.0</td>\n    </tr>\n    <tr>\n      <th>2020-01-20 00:00:00</th>\n      <td>75801.0</td>\n      <td>83809.000000</td>\n      <td>75801.0</td>\n      <td>83809.0</td>\n    </tr>\n    <tr>\n      <th>2020-01-27 00:00:00</th>\n      <td>75841.0</td>\n      <td>94738.000000</td>\n      <td>75841.0</td>\n      <td>94738.0</td>\n    </tr>\n    <tr>\n      <th>2020-12-30 00:00:00</th>\n      <td>167679.0</td>\n      <td>183546.000000</td>\n      <td>167679.0</td>\n      <td>183546.0</td>\n    </tr>\n    <tr>\n      <th>All</th>\n      <td>136150.5</td>\n      <td>202107.442308</td>\n      <td>134574.0</td>\n      <td>209050.0</td>\n    </tr>\n  </tbody>\n</table>\n</div>"
     },
     "execution_count": 10,
     "metadata": {},
     "output_type": "execute_result"
    }
   ],
   "source": [
    "# Using a pivot table to demonstrate combining columns under a specific index obtaining the mean and median of the data\n",
    "bike_df.pivot_table(values=['counts_2019', 'counts_2020'], index=bike_df['week_of'][0:5],\n",
    "                    aggfunc=[np.mean, np.median], margins=True)"
   ],
   "metadata": {
    "collapsed": false,
    "pycharm": {
     "name": "#%%\n"
    }
   }
  },
  {
   "cell_type": "code",
   "execution_count": 11,
   "outputs": [
    {
     "data": {
      "text/plain": "           counts_2019           counts_2020          \n                  mean    median        mean    median\ntime_frame                                            \nWeek 1        167679.0  167679.0    183546.0  183546.0\nWeek 2         82340.0   82340.0     97140.0   97140.0\nWeek 3         62315.0   62315.0     75782.0   75782.0\nWeek 4         75801.0   75801.0     83809.0   83809.0\nWeek 5         75841.0   75841.0     94738.0   94738.0",
      "text/html": "<div>\n<style scoped>\n    .dataframe tbody tr th:only-of-type {\n        vertical-align: middle;\n    }\n\n    .dataframe tbody tr th {\n        vertical-align: top;\n    }\n\n    .dataframe thead tr th {\n        text-align: left;\n    }\n\n    .dataframe thead tr:last-of-type th {\n        text-align: right;\n    }\n</style>\n<table border=\"1\" class=\"dataframe\">\n  <thead>\n    <tr>\n      <th></th>\n      <th colspan=\"2\" halign=\"left\">counts_2019</th>\n      <th colspan=\"2\" halign=\"left\">counts_2020</th>\n    </tr>\n    <tr>\n      <th></th>\n      <th>mean</th>\n      <th>median</th>\n      <th>mean</th>\n      <th>median</th>\n    </tr>\n    <tr>\n      <th>time_frame</th>\n      <th></th>\n      <th></th>\n      <th></th>\n      <th></th>\n    </tr>\n  </thead>\n  <tbody>\n    <tr>\n      <th>Week 1</th>\n      <td>167679.0</td>\n      <td>167679.0</td>\n      <td>183546.0</td>\n      <td>183546.0</td>\n    </tr>\n    <tr>\n      <th>Week 2</th>\n      <td>82340.0</td>\n      <td>82340.0</td>\n      <td>97140.0</td>\n      <td>97140.0</td>\n    </tr>\n    <tr>\n      <th>Week 3</th>\n      <td>62315.0</td>\n      <td>62315.0</td>\n      <td>75782.0</td>\n      <td>75782.0</td>\n    </tr>\n    <tr>\n      <th>Week 4</th>\n      <td>75801.0</td>\n      <td>75801.0</td>\n      <td>83809.0</td>\n      <td>83809.0</td>\n    </tr>\n    <tr>\n      <th>Week 5</th>\n      <td>75841.0</td>\n      <td>75841.0</td>\n      <td>94738.0</td>\n      <td>94738.0</td>\n    </tr>\n  </tbody>\n</table>\n</div>"
     },
     "execution_count": 11,
     "metadata": {},
     "output_type": "execute_result"
    }
   ],
   "source": [
    "# Using groupby accomplishing similar results to the pivot table previous\n",
    "bike_df.groupby(bike_df['time_frame'][0:5])[['counts_2019', 'counts_2020']].agg([np.mean, np.median])"
   ],
   "metadata": {
    "collapsed": false,
    "pycharm": {
     "name": "#%%\n"
    }
   }
  },
  {
   "cell_type": "code",
   "execution_count": null,
   "outputs": [],
   "source": [],
   "metadata": {
    "collapsed": false,
    "pycharm": {
     "name": "#%%\n"
    }
   }
  }
 ],
 "metadata": {
  "kernelspec": {
   "display_name": "Python 3",
   "language": "python",
   "name": "python3"
  },
  "language_info": {
   "codemirror_mode": {
    "name": "ipython",
    "version": 2
   },
   "file_extension": ".py",
   "mimetype": "text/x-python",
   "name": "python",
   "nbconvert_exporter": "python",
   "pygments_lexer": "ipython2",
   "version": "2.7.6"
  }
 },
 "nbformat": 4,
 "nbformat_minor": 0
}